{
 "cells": [
  {
   "cell_type": "code",
   "execution_count": 10,
   "metadata": {},
   "outputs": [
    {
     "name": "stdout",
     "output_type": "stream",
     "text": [
      "Enter a regular expression: ^Author\n",
      "mbox.txt has 1798 lines that matched ^Author\n"
     ]
    }
   ],
   "source": [
    "#CHAPTER 11 - Exercise 1\n",
    "import re\n",
    "count=0\n",
    "i=input(\"Enter a regular expression: \")\n",
    "fhand=open(\"mbox.txt\",\"r\")\n",
    "for line in fhand:\n",
    "  line.rstrip()\n",
    "  if len(re.findall(i,line))>0:\n",
    "      count+=1\n",
    "print(\"mbox.txt has\", count, \"lines that matched\", i)\n"
   ]
  },
  {
   "cell_type": "code",
   "execution_count": 11,
   "metadata": {},
   "outputs": [
    {
     "name": "stdout",
     "output_type": "stream",
     "text": [
      "38549.79497206704\n"
     ]
    }
   ],
   "source": [
    "#CHAPTER 11 - Exercise 2\n",
    "fhand = open(fname)\n",
    "NR = []\n",
    "import re\n",
    "NR = re.findall(r'New Revision: (\\d+)',fhand.read())\n",
    "NR = list(map(int,NR))\n",
    "print(sum(NR)/len(NR))\n"
   ]
  },
  {
   "cell_type": "code",
   "execution_count": null,
   "metadata": {},
   "outputs": [],
   "source": []
  }
 ],
 "metadata": {
  "kernelspec": {
   "display_name": "Python 3",
   "language": "python",
   "name": "python3"
  },
  "language_info": {
   "codemirror_mode": {
    "name": "ipython",
    "version": 3
   },
   "file_extension": ".py",
   "mimetype": "text/x-python",
   "name": "python",
   "nbconvert_exporter": "python",
   "pygments_lexer": "ipython3",
   "version": "3.7.3"
  }
 },
 "nbformat": 4,
 "nbformat_minor": 2
}
